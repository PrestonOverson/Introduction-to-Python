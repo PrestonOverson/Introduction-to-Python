{
 "cells": [
  {
   "cell_type": "code",
   "execution_count": 26,
   "metadata": {},
   "outputs": [],
   "source": [
    "def fizz_buzz(fb_list):\n",
    "    \n",
    "    new_list = []\n",
    "    for i in fb_list:\n",
    "        \n",
    "        if (i % 3 == 0) and (i % 5 == 0):\n",
    "            i = 'FizzBuzz'\n",
    "        elif (i % 3 == 0):\n",
    "            i = 'Fizz'\n",
    "        elif (i % 5 == 0):\n",
    "            i = 'Buzz'\n",
    "        new_list.append(i)\n",
    "    return new_list"
   ]
  },
  {
   "cell_type": "code",
   "execution_count": 27,
   "metadata": {},
   "outputs": [],
   "source": [
    "my_list = [6,3,18,46,52,51,69,75,41,7,7,9]"
   ]
  },
  {
   "cell_type": "code",
   "execution_count": 28,
   "metadata": {},
   "outputs": [
    {
     "data": {
      "text/plain": [
       "['Fizz', 'Fizz', 'Fizz', 46, 52, 'Fizz', 'Fizz', 'FizzBuzz', 41, 7, 7, 'Fizz']"
      ]
     },
     "execution_count": 28,
     "metadata": {},
     "output_type": "execute_result"
    }
   ],
   "source": [
    "fizz_buzz(my_list)\n"
   ]
  },
  {
   "cell_type": "code",
   "execution_count": 29,
   "metadata": {},
   "outputs": [],
   "source": [
    "my_new_list = fizz_buzz(my_list)"
   ]
  },
  {
   "cell_type": "code",
   "execution_count": 30,
   "metadata": {},
   "outputs": [
    {
     "data": {
      "text/plain": [
       "6"
      ]
     },
     "execution_count": 30,
     "metadata": {},
     "output_type": "execute_result"
    }
   ],
   "source": [
    "my_new_list.count('Fizz')"
   ]
  },
  {
   "cell_type": "code",
   "execution_count": 31,
   "metadata": {},
   "outputs": [],
   "source": [
    "def fib_seq(fib_length):\n",
    "    fib_list = []\n",
    "    n=0\n",
    "    j=1\n",
    "    fib_list.append(n)\n",
    "    fib_list.append(j)\n",
    "    for i in range(fib_length):\n",
    "        z = n + j\n",
    "        fib_list.append(z)\n",
    "        n=j\n",
    "        j=z\n",
    "    return fib_list"
   ]
  },
  {
   "cell_type": "code",
   "execution_count": 32,
   "metadata": {},
   "outputs": [
    {
     "data": {
      "text/plain": [
       "['FizzBuzz', 1, 1, 2, 'Fizz', 'Buzz', 8, 13, 'Fizz', 34, 'Buzz', 89]"
      ]
     },
     "execution_count": 32,
     "metadata": {},
     "output_type": "execute_result"
    }
   ],
   "source": [
    "fizz_buzz(fib_seq(10))"
   ]
  },
  {
   "cell_type": "code",
   "execution_count": null,
   "metadata": {},
   "outputs": [],
   "source": []
  }
 ],
 "metadata": {
  "kernelspec": {
   "display_name": "Python 3",
   "language": "python",
   "name": "python3"
  },
  "language_info": {
   "codemirror_mode": {
    "name": "ipython",
    "version": 3
   },
   "file_extension": ".py",
   "mimetype": "text/x-python",
   "name": "python",
   "nbconvert_exporter": "python",
   "pygments_lexer": "ipython3",
   "version": "3.7.3"
  }
 },
 "nbformat": 4,
 "nbformat_minor": 2
}
