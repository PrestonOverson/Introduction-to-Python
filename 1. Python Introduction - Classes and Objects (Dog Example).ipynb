{
 "cells": [
  {
   "cell_type": "code",
   "execution_count": 1,
   "metadata": {},
   "outputs": [],
   "source": [
    "# Example of a class is shown below\n",
    "\n",
    "class Dog:\n",
    "\n",
    "    def __init__(self, name):\n",
    "        self.name = name           # set when a Dog is created\n",
    "        self.tricks = []           # creates a new empty list for each dog \n",
    "        self.fetch_log = []        # creates an empty list of fetches (distance, time) \n",
    "        self.fetch_speed = 10      # sets the fetch speed in to 4mph by default\n",
    "        \n",
    "    def add_trick(self, trick):    # adds trick to list of tricks\n",
    "        self.tricks.append(trick)\n",
    "    \n",
    "    def add_fetch_speed (self, fetch_speed): # changes fetch speed (mph)\n",
    "        \"\"\" Add a fetch speed for the dog in mph\"\"\"\n",
    "        self.fetch_speed = fetch_speed\n",
    "        \n",
    "    def play_fetch (self, distance):        \n",
    "        \"\"\" Simulates the playing fetch with the dog. Input the distance of the throw in yards.\n",
    "        The results of each game of fetch are recorded in the fetch log, and are printed accordingly.\"\"\" \n",
    "        time = distance / (self.fetch_speed * .4888) + 2    # calculated distance / speed + 2 seconds reaction time\n",
    "        self.fetch_log.append([distance, time])   # recording fetch in fetch log\n",
    "        time = round(time)   # rounding so that the number prints as integer\n",
    "        print('You throw the ball', distance, 'yards.', self.name,\n",
    "              'runs for the ball and brings it back in', time, 'seconds.')\n",
    "        \n",
    "    def print_fetch_log (self):    # prints the fetch history\n",
    "        \"\"\" Prints the data for all fetch history \"\"\" \n",
    "        print ('Fetch Log of', self.name, 'the Dog')\n",
    "        print('(Distance in yards, Fetch time in seconds)')\n",
    "        for throw in self.fetch_log:\n",
    "            print (throw)\n",
    "    \n",
    "    def avg_speed_mph (self):    #Prints average speed in mph\n",
    "        \"\"\" Returns the average speed in miles per hour \"\"\" \n",
    "\n",
    "        avg = 0   # setting variables back to default is best practice\n",
    "        dist = 0\n",
    "        time = 0\n",
    "        \n",
    "        for throw in self.fetch_log:\n",
    "            dist += throw[0] # adding up total distance\n",
    "            time += throw[1] # adding up total time\n",
    "            \n",
    "        avg = dist /time      # average speed in yards per second\n",
    "        avg = avg * 2.04545   # adjusting from yards per second to mph\n",
    "        return (avg)          # returns the average back to where the function was called"
   ]
  },
  {
   "cell_type": "code",
   "execution_count": 2,
   "metadata": {},
   "outputs": [],
   "source": [
    "#Example of creating an object shown below\n",
    "fido = Dog('Fido')"
   ]
  },
  {
   "cell_type": "code",
   "execution_count": 3,
   "metadata": {},
   "outputs": [
    {
     "data": {
      "text/plain": [
       "'Fido'"
      ]
     },
     "execution_count": 3,
     "metadata": {},
     "output_type": "execute_result"
    }
   ],
   "source": [
    "fido.name"
   ]
  },
  {
   "cell_type": "code",
   "execution_count": 4,
   "metadata": {},
   "outputs": [],
   "source": [
    "fido.add_trick('Shake')\n",
    "fido.add_trick('Roll over')\n",
    "fido.add_trick('Play dead')"
   ]
  },
  {
   "cell_type": "code",
   "execution_count": 5,
   "metadata": {},
   "outputs": [
    {
     "data": {
      "text/plain": [
       "['Shake', 'Roll over', 'Play dead']"
      ]
     },
     "execution_count": 5,
     "metadata": {},
     "output_type": "execute_result"
    }
   ],
   "source": [
    "fido.tricks"
   ]
  },
  {
   "cell_type": "code",
   "execution_count": 6,
   "metadata": {},
   "outputs": [],
   "source": [
    "fido.add_fetch_speed(15)"
   ]
  },
  {
   "cell_type": "code",
   "execution_count": 7,
   "metadata": {},
   "outputs": [
    {
     "name": "stdout",
     "output_type": "stream",
     "text": [
      "You throw the ball 20 yards. Fido runs for the ball and brings it back in 5 seconds.\n"
     ]
    }
   ],
   "source": [
    "fido.play_fetch(20)"
   ]
  },
  {
   "cell_type": "code",
   "execution_count": 8,
   "metadata": {},
   "outputs": [
    {
     "name": "stdout",
     "output_type": "stream",
     "text": [
      "You throw the ball 100 yards. Fido runs for the ball and brings it back in 16 seconds.\n",
      "You throw the ball 60 yards. Fido runs for the ball and brings it back in 10 seconds.\n",
      "You throw the ball 36 yards. Fido runs for the ball and brings it back in 7 seconds.\n",
      "You throw the ball 65 yards. Fido runs for the ball and brings it back in 11 seconds.\n",
      "You throw the ball 10 yards. Fido runs for the ball and brings it back in 3 seconds.\n",
      "You throw the ball 16 yards. Fido runs for the ball and brings it back in 4 seconds.\n"
     ]
    }
   ],
   "source": [
    "fido.play_fetch(100)\n",
    "fido.play_fetch(60)\n",
    "fido.play_fetch(36)\n",
    "fido.play_fetch(65)\n",
    "fido.play_fetch(10)\n",
    "fido.play_fetch(16)"
   ]
  },
  {
   "cell_type": "code",
   "execution_count": 9,
   "metadata": {},
   "outputs": [
    {
     "name": "stdout",
     "output_type": "stream",
     "text": [
      "Fetch Log of Fido the Dog\n",
      "(Distance in yards, Fetch time in seconds)\n",
      "[20, 4.727768685215494]\n",
      "[100, 15.638843426077468]\n",
      "[60, 10.183306055646481]\n",
      "[36, 6.909983633387889]\n",
      "[65, 10.865248226950355]\n",
      "[10, 3.363884342607747]\n",
      "[16, 4.182214948172395]\n"
     ]
    }
   ],
   "source": [
    "fido.print_fetch_log()"
   ]
  },
  {
   "cell_type": "code",
   "execution_count": 10,
   "metadata": {},
   "outputs": [
    {
     "data": {
      "text/plain": [
       "11.239289574952156"
      ]
     },
     "execution_count": 10,
     "metadata": {},
     "output_type": "execute_result"
    }
   ],
   "source": [
    "fido.avg_speed_mph()"
   ]
  },
  {
   "cell_type": "code",
   "execution_count": 11,
   "metadata": {},
   "outputs": [
    {
     "name": "stdout",
     "output_type": "stream",
     "text": [
      "Help on function add_fetch_speed in module __main__:\n",
      "\n",
      "add_fetch_speed(self, fetch_speed)\n",
      "    Add a fetch speed for the dog in mph\n",
      "\n"
     ]
    }
   ],
   "source": [
    "help(Dog.add_fetch_speed)"
   ]
  },
  {
   "cell_type": "code",
   "execution_count": null,
   "metadata": {},
   "outputs": [],
   "source": []
  }
 ],
 "metadata": {
  "kernelspec": {
   "display_name": "Python 3",
   "language": "python",
   "name": "python3"
  },
  "language_info": {
   "codemirror_mode": {
    "name": "ipython",
    "version": 3
   },
   "file_extension": ".py",
   "mimetype": "text/x-python",
   "name": "python",
   "nbconvert_exporter": "python",
   "pygments_lexer": "ipython3",
   "version": "3.7.3"
  }
 },
 "nbformat": 4,
 "nbformat_minor": 2
}
